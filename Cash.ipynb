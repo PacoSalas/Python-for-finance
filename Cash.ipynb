{
 "cells": [
  {
   "cell_type": "markdown",
   "metadata": {},
   "source": [
    "# Multiobjective control of cash management systems"
   ]
  },
  {
   "cell_type": "code",
   "execution_count": 1,
   "metadata": {
    "collapsed": false
   },
   "outputs": [],
   "source": [
    "import numpy as np\n",
    "import matplotlib.pyplot as plt\n",
    "import matplotlib.mlab as mlab\n",
    "%matplotlib inline\n",
    "from gurobipy import *\n",
    "from IPython.display import Image"
   ]
  },
  {
   "cell_type": "markdown",
   "metadata": {},
   "source": [
    "## 1. Introduction"
   ]
  },
  {
   "cell_type": "markdown",
   "metadata": {},
   "source": [
    "The cash management problem (CMP) aims to keep a balance between how much a company holds in cash and how much is allocated in short-term investments such as tresury bills or interest bearing accounts. The CMP is characterized by the particular form of the cash flow process and by a cost structure including holding and transaction costs. Holding costs are oportunity costs due to idle cash balances and transaction costs charge transfers between accounts."
   ]
  },
  {
   "cell_type": "markdown",
   "metadata": {},
   "source": [
    "## 2. Controlling cash within the (common) two-assets setting and the Miller-Orr model"
   ]
  },
  {
   "cell_type": "markdown",
   "metadata": {},
   "source": [
    "The CMP has been usually approached as a control problem. The cash balance of any bank account needs to be monitored to keep the balance between two bounds, for instance, a low bound and a high bound. To this end, some control actions are taken to increase or decrease the balance according to some rules in order to minimize expected holding and transaction costs. The set of control actions deployed over a planning horizon, namely, the policy, is the solution to the CMP. "
   ]
  },
  {
   "cell_type": "markdown",
   "metadata": {},
   "source": [
    "Miller and Orr (1966) proposed a simple policy based on three bounds to control cash balances. This policy implies that when the upper bound $U$ is reached a withdrawal transfer is made to restore the balance to a target level $Z$. In the same way, when the cash balance reaches the lowe bound $L$, a positive transfer is made to restore the balance to $Z$. \n",
    "\n",
    "\\begin{equation}\n",
    "u_t=\\left\\{\\begin{array}{lll}Z-b_{t}-f_t & \\mbox{if} & b_{t} + f_t > U \\\\ 0 &\\mbox{if} & L < b_{t} + f_t < U  \\\\Z-b_{t}-f_t & \\mbox{if} & b_{t} + f_t < L \\end{array}\\right.\n",
    "\\end{equation}\n",
    "\n",
    "This control action $u_t$ is made at the end of time step $t$ when the current state is $b_t$ is updated with cash flow $f_t$ and the state transition law is given by:\n",
    "\n",
    "\\begin{equation}\n",
    "b_{t} = b_{t-1} + u_t + f_t\n",
    "\\end{equation}\n",
    "\n",
    "where $f_{1,t}$ is assumed to be a Gaussian, uncorrelated and stationary cash flow process. Although Miller and Orr set the lower limit $L$ to zero, cash managers should set a lower limit above zero for precautionary motives. We can reasonably set a lower bound $L$ proportional to the standard deviation of the particular cash flow process under consideration. \n",
    "\n",
    "\n",
    "\\begin{equation}\n",
    "L = \\xi \\sigma\n",
    "\\end{equation}\n",
    "\n",
    "whehre $\\xi$ is a parameter reflecting the aversion to risk of cash managers. In the usual context of high penalty costs for negative cash balances, the higher the value of $\\xi$ the more averse to risk they are. Typical values for $\\xi$ are 2 or 3 resulting in either a probability of 0.95 or 0.99, respectively, of a negative cash balance from the lower bound $L$ for Gaussian cash flows. Later, we can set $Z$ and $U$ according to the formulas derived by Miller-Orr:\n",
    "\n",
    "\\begin{equation}\n",
    "Z=L+\\left(\\frac{3\\gamma_0\\sigma^2}{4h}\\right)^{1/3}\n",
    "\\end{equation}\n",
    "and\n",
    "\\begin{equation}\n",
    "U=3Z-2L.\n",
    "\\end{equation}\n",
    "\n",
    "where $\\gamma_0$ is the fixed transaction cost, $\\sigma$ is the standard deviation of net cash flows and $h$ is the holding cost per money unit."
   ]
  },
  {
   "cell_type": "markdown",
   "metadata": {},
   "source": [
    "** Example 1.** Consider an uncorrelated normal cash flow process with zero mean and standard deviation 1 million euro. Assume also a holding cost per day of 0.02 % and a fixed transaction cost $\\gamma_0$ of 50 € for both positive and negative transactions. By setting a risk parameter $\\xi=2$ we can compute the bounds L, Z, and U that determines the Miller-Orr policy as follows:"
   ]
  },
  {
   "cell_type": "code",
   "execution_count": 2,
   "metadata": {
    "collapsed": false
   },
   "outputs": [
    {
     "data": {
      "text/plain": [
       "(2000000.0, 2572349.5332918903, 3717048.599875671)"
      ]
     },
     "execution_count": 2,
     "metadata": {},
     "output_type": "execute_result"
    }
   ],
   "source": [
    "sigma = 1e6\n",
    "h = 0.0002\n",
    "gamma0 = 50\n",
    "xi = 2\n",
    "L = xi * sigma\n",
    "Z = L + ((3 * gamma0 * sigma ** 2)/(4 * h)) ** (0.333333)\n",
    "U = 3 * Z - 2 * L\n",
    "L,Z,U"
   ]
  },
  {
   "cell_type": "markdown",
   "metadata": {},
   "source": [
    "We are now in a position to simulate the behavior of this policy and estimate the expected cost of the Miller-Orr policy by means of the following class"
   ]
  },
  {
   "cell_type": "code",
   "execution_count": 3,
   "metadata": {
    "collapsed": true
   },
   "outputs": [],
   "source": [
    "class miller(object):\n",
    "    \n",
    "    def __init__(self, gzeropos, gzeroneg, h, p, L, Z, U):\n",
    "        \"\"\"Initializes model parameters\"\"\"\n",
    "        self.gzeropos = gzeropos\n",
    "        self.gzeroneg = gzeroneg\n",
    "        self.h = h\n",
    "        self.p = p\n",
    "        self.U = U\n",
    "        self.Z = Z\n",
    "        self.L = L\n",
    "        self.daily_cost = []\n",
    "        self.cost_list =[]\n",
    "        self.trans_list = []\n",
    "        self.bal_list = []\n",
    "        \n",
    "    def transfer(self, cf, ob):\n",
    "        \"\"\"Determines transfer u from cash flow, opening balance (ob) and U, Z, L\"\"\"\n",
    "        if ob + cf > self.U:\n",
    "            u = self.Z - ob - cf\n",
    "        elif ob + cf < self.L:\n",
    "            u = self.Z - ob - cf\n",
    "        else:\n",
    "            u = 0\n",
    "        return u\n",
    "    \n",
    "    def trans_cost(self, u):\n",
    "        \"\"\"Computes the cost of transfer u\"\"\"\n",
    "        cost = 0\n",
    "        if u < 0:\n",
    "            cost = self.gzeroneg\n",
    "        elif u > 0:\n",
    "            cost = self.gzeropos\n",
    "        return cost\n",
    "    \n",
    "    def holding_cost(self, final):\n",
    "        \"\"\"Computes the holding cost\"\"\"\n",
    "        cost = 0\n",
    "        if final >= 0:\n",
    "            cost = self.h * final\n",
    "        else: \n",
    "            cost = -self.p * final\n",
    "        return cost\n",
    "                \n",
    "    def cost_calc(self, cf, ob):\n",
    "        \"\"\"Computes a vector of daily cost of cash flows and an opening balance\"\"\"\n",
    "        inibal = ob\n",
    "        bal = ob\n",
    "        if len(self.daily_cost) > 0:\n",
    "            del self.daily_cost[:]\n",
    "        if len(self.trans_list) > 0:\n",
    "            del self.trans_list[:]\n",
    "        if len(self.bal_list) > 0:\n",
    "            del self.bal_list[:]\n",
    "        for element in cf:\n",
    "            trans = self.transfer(element, inibal)\n",
    "            self.trans_list.append(trans)\n",
    "            bal = inibal + trans + element\n",
    "            self.bal_list.append(bal)\n",
    "            self.daily_cost.append(self.trans_cost(trans) + self.holding_cost(bal))\n",
    "            inibal = bal\n",
    "        return self.daily_cost\n",
    "    \n",
    "    def cost_calc_no_trans(self, cf ,ob):\n",
    "        \"\"\"Computes a vector of daily cost of cash flows and an opening balance\"\"\"\n",
    "        inibal = ob\n",
    "        bal = ob\n",
    "        if len(self.daily_cost) > 0:\n",
    "            del self.daily_cost[:]\n",
    "        for element in cf:\n",
    "            bal = inibal + element\n",
    "            self.daily_cost.append(self.holding_cost(bal))\n",
    "            inibal = bal\n",
    "        return self.daily_cost"
   ]
  },
  {
   "cell_type": "code",
   "execution_count": 4,
   "metadata": {
    "collapsed": false
   },
   "outputs": [
    {
     "name": "stdout",
     "output_type": "stream",
     "text": [
      "Average cost Miller =  571.72\n",
      "Average cost trivial =  2260.24\n"
     ]
    }
   ],
   "source": [
    "p = 0.3\n",
    "T = 100\n",
    "f = [sigma * np.random.randn() for i in range(T)]\n",
    "m = miller(gamma0, gamma0, h, p, L, Z, U)\n",
    "b0 = Z\n",
    "cost_miller = np.round(np.mean(m.cost_calc(f, b0)), 2)\n",
    "cost_trivial = np.round(np.mean(m.cost_calc_no_trans(f, b0)), 2)\n",
    "print(\"Average cost Miller = \", cost_miller)\n",
    "print(\"Average cost trivial = \", cost_trivial)"
   ]
  },
  {
   "cell_type": "code",
   "execution_count": 5,
   "metadata": {
    "collapsed": false
   },
   "outputs": [
    {
     "data": {
      "image/png": "[encoded data removed]",
      "text/plain": [
       "<matplotlib.figure.Figure at 0x20bf1c27dd8>"
      ]
     },
     "metadata": {},
     "output_type": "display_data"
    }
   ],
   "source": [
    "t = range(T)\n",
    "plt.plot(t, m.bal_list, label = 'Miller-Orr')\n",
    "trivial_bal = b0 + np.cumsum(f)\n",
    "plt.plot(t, trivial_bal, label= 'No-Trans')\n",
    "plt.xlabel('Time')\n",
    "plt.ylabel('Cash balance')\n",
    "plt.legend(loc='upper left')\n",
    "plt.show()"
   ]
  },
  {
   "cell_type": "markdown",
   "metadata": {},
   "source": [
    "**Figure 1.** Balance comparison between a Miller-Orr policy and a no-trans policy."
   ]
  },
  {
   "cell_type": "markdown",
   "metadata": {},
   "source": [
    "# 3. A control approach to the cash management problem"
   ]
  },
  {
   "cell_type": "markdown",
   "metadata": {},
   "source": [
    "Consider a company with two bank accounts as depicted in the following figure. Account 1 receives payments from customers (inflows) and it is also used to send payments to suppliers (outflows). Both inflows and outflows are summarized through the net cash flow $f_{1,t}$.  Account 2 represents the amount of alternative investments available to be converted into cash through transaction $u_{1,t}$ when needed. In addition, idle cash balances from account 1 can be allocated in account 2 for a profit through transaction $u_{2,t}$.\n",
    "\n",
    "\n",
    "Let $\\boldsymbol{b}_t$ an $m \\times 1$ vector describing the state of a cash management system at time t in terms of available cash balance and $\\boldsymbol{u}_t$ a $n \\times 1$ vector with control actions. The transition state equation is:\n",
    "\n",
    "\\begin{equation}\n",
    "\\boldsymbol{b}_{t} = A \\cdot \\boldsymbol{b}_{t-1} + B \\cdot  \\boldsymbol{u}_t + C \\cdot  \\boldsymbol{f}_{t}\n",
    "\\end{equation}\n",
    "\n",
    "where $\\boldsymbol{f}_{t}$ is a cash flow process of dimension $m \\times 1$. By setting $A = 1$, $B = \\left[ \\begin{array}{rr} 1 & -1 \\\\  -1 & 1 \\\\ \\end{array} \\right]$, and $C = \\left[ \\begin{array}{rr} 1 & 0 \\\\  0 & 0 \\\\ \\end{array} \\right]$, we can represent the (common) two-assets setting shown in the figure."
   ]
  },
  {
   "cell_type": "code",
   "execution_count": 6,
   "metadata": {
    "collapsed": false
   },
   "outputs": [
    {
     "data": {
      "image/jpeg": "[encoded data removed]",
      "text/plain": [
       "<IPython.core.display.Image object>"
      ]
     },
     "execution_count": 6,
     "metadata": {
      "image/jpeg": {
       "height": 400,
       "width": 300
      }
     },
     "output_type": "execute_result"
    }
   ],
   "source": [
    "Image(filename=\"TwoAssets.jpg\",embed=True,width=300,height=400)"
   ]
  },
  {
   "cell_type": "markdown",
   "metadata": {},
   "source": [
    "**Figure 2.** The two-assets setting: circle 1 is a cash account and circle 2 is an investment account."
   ]
  },
  {
   "cell_type": "markdown",
   "metadata": {},
   "source": [
    "Then, the system behaviour is given by:\n",
    "\n",
    "\\begin{equation}\n",
    "\\left[ \\begin{array}{r} b_{1,t} \\\\ b_{2,t} \\\\ \\end{array} \\right] = \\left[ \\begin{array}{r} b_{1,t-1} \\\\ b_{2,t-1} \\\\ \\end{array} \\right] + \\left[ \\begin{array}{rr} 1 & -1 \\\\  -1 & 1 \\\\ \\end{array} \\right] \\left[ \\begin{array}{r} u_{1,t} \\\\ u_{2,t} \\\\ \\end{array} \\right] + \\left[ \\begin{array}{rr} 1 & 0 \\\\  0 & 0 \\\\ \\end{array} \\right] \\left[ \\begin{array}{r} f_{1,t} \\\\ f_{2,t} \\\\ \\end{array} \\right]\n",
    "\\end{equation}\n",
    "\n",
    "Next day balances are built by adding control actions and cash flow shocks according to $B$ and $C$:\n",
    "\n",
    "\\begin{equation}\n",
    "b_{1,t}  = b_{1,t-1} + u_{1,t} - u_{2,t} +  f_{1,t} \n",
    "\\end{equation}\n",
    "\n",
    "\\begin{equation}\n",
    "b_{2,t}  = b_{2,t-1} - u_{1,t} + u_{2,t} \n",
    "\\end{equation}\n",
    "\n",
    "The objective of cash managers is to minimize holding and transaction costs:\n",
    "\n",
    "\\begin{equation}\n",
    "y_t = \\boldsymbol{h}' \\cdot \\boldsymbol{b}_t + \\boldsymbol{\\gamma}_1' \\cdot  \\boldsymbol{u}_t + \\boldsymbol{\\gamma}_0' \\cdot \\boldsymbol{z}_t\n",
    "\\end{equation}\n",
    "\n",
    "where $\\boldsymbol{h}$ is an $m \\times 1$ vector with holding costs per money unit for each account, $\\boldsymbol{\\gamma}_1$ is and $n \\times 1$ vector with variable transaction costs, and $\\boldsymbol{\\gamma}_0$ is and $n \\times 1$ vector with fixed transaction costs. Since fixed transaction costs are only charged when a control action occurs, we need an auxiliary variable $z_t$ satisfying the following constraints (Bemporad and Morari, 1999):\n",
    "\n",
    "\\begin{equation}\n",
    "k \\cdot \\boldsymbol{z}_t \\leq \\boldsymbol{u}_t \\leq K \\cdot \\boldsymbol{z}_t\n",
    "\\end{equation}\n",
    "\n",
    "where K (k) is a very large (small) number and:\n",
    "\n",
    "\\begin{equation}\n",
    "z_{1,t} + z_{2,t} \\leq 1\n",
    "\\end{equation}\n",
    "\n",
    "to ensure that both transactions cannot occur at the same time. However, cash managers may be interested not only in the cost but also in the risk of alternative policies. In the usual context of much higher penalty costs for negative cash balances in comparison to holding costs for positive cash balances, minimum cash balances must be kept for precautionary purposes. Within an optimization framework, risk control can be achieved by setting a target cash balance as reference. Then, we transform the single objective problem into a multiobjective problem in which the goal is minimizing a weighted objective function as follows:\n",
    "\n",
    "\\begin{equation}\n",
    "\\operatorname{min} \\sum_{t=1}^T  \\left[ \\frac{w_1}{C_{max}} \\left( \\boldsymbol{h}' \\cdot \\boldsymbol{b}_t + \\boldsymbol{\\gamma}_1' \\cdot  \\boldsymbol{u}_t + \\boldsymbol{\\gamma}_0' \\cdot \\boldsymbol{z}_t \\right) + \\frac{w_2}{R_{max}} \\left( (\\boldsymbol{b}_t - \\boldsymbol{b}_{ref})' \\cdot  Q \\cdot (\\boldsymbol{b}_t - \\boldsymbol{b}_{ref})' \\right) \\right]\n",
    "\\end{equation}\n",
    "\n",
    "where $\\boldsymbol{b}_{ref}$ is a given balance reference, $w_1,w_2$ are weights reflecting risk preferences of cash managers subject to $w_1+w_2=1$, and $C_{max}$, $R_{max}$ are normalization factors to avoid meaningless comparison between cost and risk goals. These factors can also be viewed as budget constraints in terms of both cost and risk leading to an unfeasible policy when exceeded. Under this framework, risk control takes the form of minimizing squared deviations from a reference balance. Note also that $Q$ is used to select which accounts need to be controlled. For instance, if:\n",
    "\n",
    "\\begin{equation}\n",
    "Q = \\left[ \\begin{array}{rr} 1 & 0 \\\\  0 & 1 \\\\ \\end{array} \\right]\n",
    "\\end{equation}\n",
    "\n",
    "we are controlling balances for both account 1 and 2. However, if:\n",
    "\n",
    "\\begin{equation}\n",
    "Q = \\left[ \\begin{array}{rr} 1 & 0 \\\\  0 & 0 \\\\ \\end{array} \\right]\n",
    "\\end{equation}\n",
    "\n",
    "we are controlling only balances for account 1.\n",
    "\n",
    "As a result, we are facing a multiobjective optimization problem in which cost and risk are desired goasl to minimize. This problem is econded as a Mixed Integer Quadratic Progam (MIQP) that can be solved using state-of-the-art mathematical programming solvers such as Gurobi. The following class **multibank** implements methods to solve this multiobjective cash management problem.\n"
   ]
  },
  {
   "cell_type": "code",
   "execution_count": 7,
   "metadata": {
    "collapsed": false
   },
   "outputs": [],
   "source": [
    "class multibank(object):\n",
    "    \n",
    "    def __init__(self, banks, trans, B, gzero, gone, h, bref, Q):\n",
    "        \"\"\"Defines the cash management system\"\"\"\n",
    "\n",
    "        self.banks = list(banks)               # List of banks\n",
    "        self.trans = list(trans)               # List of transactions\n",
    "        self.B = np.array(B, dtype= int)       # Incidence matrix  \n",
    "        self.gzero = gzero                     # Dict of fixed transaction cost\n",
    "        self.gone = gone                       # Dict of variable transaction costs\n",
    "        self.h = h                             # Dict of holding costs  \n",
    "        self.bref = list(bref)                 # List of reference balances\n",
    "        self.resx = []                         # Optimal policy\n",
    "        self.resb = []                         # Optimal balance\n",
    "        self.Q = np.array(Q, dtype=int)        # i-th elem of diagonal set to 1 if account i is referenced  \n",
    "        \n",
    "\n",
    "        # Checks types of input data\n",
    "        if type(self.gzero) != dict:\n",
    "            self.gzero = dict([(i,0) for i in self.trans])\n",
    "            self.B = np.zeros((len(self.trans), len(self.banks)))\n",
    "            print(\"Fixed costs must be a dictionary\")\n",
    "        if type(self.gone) != dict:\n",
    "            self.gone = dict([(i,0) for i in self.trans])\n",
    "            self.B = np.zeros((len(self.trans), len(self.banks)))\n",
    "            print(\"Variable costs must be a dictionary\")\n",
    "        if type(self.h) != dict:\n",
    "            self.h = dict([(i,0) for i in self.banks])\n",
    "            self.B = np.zeros((len(self.trans), len(self.banks)))\n",
    "            print(\"Holding costs must be a dictionary\")\n",
    "        \n",
    "        # Checks dimension agreement \n",
    "        if self.B.shape != (len(self.trans), len(self.banks)):\n",
    "            self.B = np.zeros((len(self.trans), len(self.banks)))\n",
    "            print(\"Incidence matrix dimensions do not agree with banks or transactions\")\n",
    "        if len(self.bref) != len(self.banks):\n",
    "            self.bref = []\n",
    "            print(\"Reference balances must agree with banks\")\n",
    "        if len(self.gzero) != len(self.gone):\n",
    "            self.gzero = []\n",
    "            self.gone = []\n",
    "            print(\"Fixed and variable transaction costs must agree\")\n",
    "        if len(self.gzero) != len(self.trans):\n",
    "            self.trans = []\n",
    "            print(\"Transaction costs must agree with transactions\")\n",
    "        if len(self.h) != len(self.banks):\n",
    "            self.banks = []\n",
    "            print(\"Holding costs must agree with banks\")\n",
    "        if len(self.banks) <= 1:\n",
    "            self.banks = []\n",
    "            print(\"A system must have at least two banks\")\n",
    "\n",
    "    def describe(self):\n",
    "        \"\"\"Describe the main characteristics of the system\"\"\"\n",
    "\n",
    "        print('Banks =', self.banks)\n",
    "        print('Trans =', self.trans)\n",
    "        print('Incidence matrix B =', self.B.tolist())\n",
    "        print('Fixed costs =', self.gzero)\n",
    "        print('Variable costs =', self.gone)\n",
    "        print('Holding costs =', self.h)\n",
    "        print('Reference balances =', self.bref)\n",
    "        print('Balance control matrix Q =', self.Q.tolist())\n",
    "        \n",
    "    \n",
    "    def solveref(self, b0, fcast, Cmax, Rmax, w1, w2):\n",
    "        \"\"\"Solve mba problem from initial balance b0 and forecast fcast\n",
    "        fcast: an h x m matrix with h forecasts for m accounts\n",
    "        b0: list with initial balances for each account\n",
    "        \"\"\"\n",
    "        \n",
    "        # Reset solution values \n",
    "        self.resx = []                         # Optimal policy\n",
    "        self.resb = []                         # Optimal cash balance\n",
    "        self.objval = 0                        # Objective value\n",
    "     \n",
    "        \n",
    "        # Checks dimensions\n",
    "        fcast = np.array(fcast)\n",
    "        if len(fcast) <= len(self.banks): \n",
    "            fcast = fcast.reshape((1,len(self.banks)))              \n",
    "        self.T = fcast.shape[0]\n",
    "        \n",
    "        if len(b0) != len(self.banks):\n",
    "            return (print(\"Dimension for minimum balances must agree with banks\"))\n",
    "        \n",
    "        if fcast.shape != (self.T, len(self.banks)):\n",
    "            return (print(\"Dimensions for forecasts must agree with horizon and banks\"))\n",
    "                    \n",
    "        # Init model\n",
    "        m = Model(\"example\")\n",
    "\n",
    "        #Ranges\n",
    "        tr_range = range(len(self.trans))\n",
    "        bk_range = range(len(self.banks))\n",
    "        time_range = range(self.T)\n",
    "\n",
    "        # Fixed costs: z = 1 if trans occurs at time tau\n",
    "        fixed = []\n",
    "        for tau in time_range:\n",
    "            fixed.append([])\n",
    "            for t in self.trans:\n",
    "                fixed[tau].append(m.addVar(vtype = GRB.BINARY, name = \"z%d,%d\" %(tau, t)))\n",
    "        m.update()\n",
    "\n",
    "        # Variable costs are proportional to transaction decision variables\n",
    "        var = []\n",
    "        for tau in time_range:\n",
    "            var.append([])\n",
    "            for t in self.trans:\n",
    "                var[tau].append(m.addVar(vtype = GRB.CONTINUOUS, name = \"u%d,%d\" %(tau, t)))\n",
    "        m.update()\n",
    "\n",
    "        # Holding costs are proportional to balance auxiliary decision variables\n",
    "        bal = []\n",
    "        for tau in time_range:\n",
    "            bal.append([])\n",
    "            for j in self.banks:\n",
    "                bal[tau].append(m.addVar(vtype = GRB.CONTINUOUS, name=\"b%d,%d\" %(tau, j)))\n",
    "        m.update()\n",
    "        \n",
    "\n",
    "        # Intitial transition constraints and minimum balance constraints\n",
    "        for j in bk_range:\n",
    "            m.addConstr(b0[j] + fcast[0][j] + LinExpr(self.B[j], var[0][:]) == bal[0][j], 'IniBal%d'% j)\n",
    "        m.update()\n",
    "\n",
    "        # Rest of transition constraints\n",
    "        for tau in range(1, self.T):\n",
    "            for j in bk_range:\n",
    "                m.addConstr(bal[tau-1][j] + fcast[tau][j] + LinExpr(self.B[j],var[tau][:]) == bal[tau][j], 'Bal%d,%d'%(tau, j))\n",
    "        m.update()\n",
    "\n",
    "        # Bounds and binary variables constraints\n",
    "        K = 9999                                 # K is a very large number with respect to control actions u_t\n",
    "        k = 0.0001                               # k is a very small number with respect to control actions u_t\n",
    "        for tau in time_range:\n",
    "            for i in tr_range:\n",
    "                m.addConstr(var[tau][i] <= K * fixed[tau][i], name = \"c%d%d\" %(tau, i))  \n",
    "                m.addConstr(var[tau][i] >= k * fixed[tau][i], name=\"c2%d%d\" %(tau, i))  \n",
    "        m.update() \n",
    "\n",
    "        # Setting the objectives\n",
    "        transcost = sum([self.gzero[t] * fixed[tau][t-1] + self.gone[t] * var[tau][t-1] \n",
    "                         for tau in time_range for t in self.trans])\n",
    "        holdcost = sum([self.h[j] * bal[tau][j-1] for tau in time_range for j in self.banks])\n",
    "        q = np.diag(self.Q)\n",
    "        devcost = sum([q[j] * (self.bref[j] - bal[tau][j]) * (self.bref[j] - bal[tau][j]) \n",
    "                       for tau in time_range for j in bk_range])\n",
    "        m.setObjective((w1 / Cmax) * (transcost + holdcost) + (w2 / Rmax) * devcost, GRB.MINIMIZE)\n",
    "        m.update()\n",
    "\n",
    "        # Budget constraints\n",
    "        m.addConstr(transcost + holdcost <= Cmax, name = \"CostBudget\")\n",
    "        m.addConstr(devcost <= Rmax, name = \"RiskBudget\")\n",
    "        m.update()\n",
    "\n",
    "        # Optimization\n",
    "        m.setParam('OutputFlag', 0) \n",
    "        m.optimize()\n",
    "\n",
    "        # Checks if model is optimal and present results        \n",
    "        if m.status == 2: \n",
    "            self.objval = m.ObjVal\n",
    "            for dv in m.getVars():\n",
    "                if 'u' in dv.varName:\n",
    "                    self.resx.append([dv.varName, dv.x])\n",
    "                if 'b' in dv.varName:\n",
    "                    self.resb.append([dv.varName, dv.x])\n",
    "            return(print(\"Program successfully solved\"))\n",
    "        else:\n",
    "            return(print(\"I was unable to find a solution\"))\n",
    "\n",
    "    def policy(self): \n",
    "        \"\"\"Returns a matrix with policy for each transaction\"\"\"\n",
    "        if len(self.resx) > 0:\n",
    "            plan = np.array(self.resx)\n",
    "            planmat = np.array([float(i) for i in plan[:,1]]).reshape((self.T,len(self.trans)))\n",
    "            return(planmat)\n",
    "        else:\n",
    "            return(print(\"Nothing to show\"))\n",
    "    \n",
    "    def balance(self):\n",
    "        \"\"\"Returns a matrix with balances for each bank account\"\"\"\n",
    "        if len(self.resb) > 0:\n",
    "            bals = np.array(self.resb)\n",
    "            balsmat = np.array([float(i) for i in bals[:,1]]).reshape((self.T,len(self.banks)))\n",
    "            return(balsmat)\n",
    "        else:\n",
    "            return(print(\"Nothing to show\"))"
   ]
  },
  {
   "cell_type": "markdown",
   "metadata": {},
   "source": [
    "**Example 2.**  As an illustrative example, consider a cash management system like the one depicted in Figure 2. Let us consider the following input data including transaction and holding costs. Assume Gaussian cash flows for account 1 distributed according to $\\mathcal{N}(0,1)$. Thus, we can reasonably set a cash balance reference equal to three times the volatility introduced by cash flow random shocks. Then, on average, only one out of one hundred times will drop from the reference to a negative cash balance."
   ]
  },
  {
   "cell_type": "code",
   "execution_count": 8,
   "metadata": {
    "collapsed": false
   },
   "outputs": [],
   "source": [
    "# Input data for the Example 2. Balance figures in millions.\n",
    "\n",
    "# Bank accounts\n",
    "banks = [1,2]\n",
    "m = len(banks)\n",
    "\n",
    "# Transactions\n",
    "trans = np.array([1,2])\n",
    "n = len(trans)\n",
    "\n",
    "# Allowed transactions between accounts\n",
    "B = np.array([[1, -1],[-1, 1]])\n",
    "\n",
    "# Transaction fixed costs\n",
    "g0 = {1:50, 2:50}                      # Dictionary indexes must match the list of transactions\n",
    "\n",
    "# Transaction variable costs\n",
    "g1 = {1:10, 2:50}                      # Dictionary indexes must match the list of transactions\n",
    "\n",
    "# Holding costs per bank account\n",
    "h = {1:200, 2:0}                       # Dictionary indexes must match the list of banks\n",
    "\n",
    "# Minimum balances\n",
    "bref = [3, 0]\n",
    "\n",
    "# Referenced accounts\n",
    "Q = np.array([[1, 0],[0,0]])"
   ]
  },
  {
   "cell_type": "markdown",
   "metadata": {},
   "source": [
    "Then, we can create an instance of the class multibank as follows:"
   ]
  },
  {
   "cell_type": "code",
   "execution_count": 9,
   "metadata": {
    "collapsed": false
   },
   "outputs": [
    {
     "name": "stdout",
     "output_type": "stream",
     "text": [
      "Banks = [1, 2]\n",
      "Trans = [1, 2]\n",
      "Incidence matrix B = [[1, -1], [-1, 1]]\n",
      "Fixed costs = {1: 50, 2: 50}\n",
      "Variable costs = {1: 10, 2: 50}\n",
      "Holding costs = {1: 200, 2: 0}\n",
      "Reference balances = [3, 0]\n",
      "Balance control matrix Q = [[1, 0], [0, 0]]\n"
     ]
    }
   ],
   "source": [
    "prb = multibank(banks, trans, B, g0, g1, h, bref, Q)\n",
    "prb.describe()"
   ]
  },
  {
   "cell_type": "markdown",
   "metadata": {},
   "source": [
    "Assume first a neutral cash manager, i.e., without preference for cost and risk. This assumption implies $w_1=w_2=0.5$. Furthermore, we impose both a total cost and a total risk budget constraints. For instance, two times the total holding cost for  the reference balance for the cost budget. And a maximum deviation of half the reference balance for the risk budget."
   ]
  },
  {
   "cell_type": "code",
   "execution_count": 10,
   "metadata": {
    "collapsed": false
   },
   "outputs": [
    {
     "data": {
      "text/plain": [
       "(18000.0, 180)"
      ]
     },
     "execution_count": 10,
     "metadata": {},
     "output_type": "execute_result"
    }
   ],
   "source": [
    "# Set preferences for goals and \n",
    "w1 = 0.5\n",
    "w2 = 1 - w1\n",
    "\n",
    "# Planning horizon\n",
    "T = 20\n",
    "\n",
    "# Two arbitrary parameters\n",
    "p1 = 1.5    # Parameter to set Cmax (number of times of holding cost of bref as max daily cost)\n",
    "p2 = 1      # Paraemter to set Rmax (percentage of bref as max daily deviation)\n",
    "\n",
    "# Cost/risk budget constraints\n",
    "Cmax = p1 * bref[0] * h[1] * T\n",
    "Rmax = (p2 * bref[0]) ** 2 * T \n",
    "Cmax, Rmax"
   ]
  },
  {
   "cell_type": "markdown",
   "metadata": {},
   "source": [
    "We set an initial cash balance and generate a random cash flow for account 1 according to Figure 2 to solve the problem."
   ]
  },
  {
   "cell_type": "code",
   "execution_count": 11,
   "metadata": {
    "collapsed": false
   },
   "outputs": [
    {
     "name": "stdout",
     "output_type": "stream",
     "text": [
      "Program successfully solved\n",
      "Objective value =  0.31\n"
     ]
    }
   ],
   "source": [
    "# Initial balance and random cash flow for a planning horizon T\n",
    "b0 = [3, 3]\n",
    "f = np.hstack((np.random.randn(T, 1),np.zeros((T,m-1))))\n",
    "\n",
    "# Solve the problem for this cash flow\n",
    "sol = prb.solveref(b0, f, Cmax, Rmax, w1, w2)\n",
    "sol\n",
    "print(\"Objective value = \", round(prb.objval,2))"
   ]
  },
  {
   "cell_type": "markdown",
   "metadata": {},
   "source": [
    "It is also interesting to retrieve both the policy and the resulting balance to verify that the actual cost/risk of deploying the policy is the previous objective value."
   ]
  },
  {
   "cell_type": "code",
   "execution_count": 12,
   "metadata": {
    "collapsed": false
   },
   "outputs": [
    {
     "name": "stdout",
     "output_type": "stream",
     "text": [
      "Total cost =  8613.34\n",
      "Total risk =  25.08\n",
      "Objective value =  0.31\n"
     ]
    }
   ],
   "source": [
    "# Retrieving the policy and the resulting balance\n",
    "X = prb.policy()\n",
    "Bal = prb.balance()\n",
    "\n",
    "#Some useful vectors to compute cost and risk\n",
    "vh = np.array(list(h.values())).reshape((m,1))\n",
    "vg0 = np.array(list(g0.values())).reshape((n,1))\n",
    "vg1 = np.array(list(g1.values())).reshape((n,1))\n",
    "cost = np.sum(np.dot(vh.T,Bal.T)) + np.sum(np.dot(vg0.T,np.sign(X.T))) + np.sum(np.dot(vg1.T,X.T))\n",
    "Bref = np.array(bref).reshape((1,m))\n",
    "D = Bref - Bal\n",
    "Qv = np.diag(Q).reshape((m,1))\n",
    "risk = np.sum(np.dot(D,Qv)**2)\n",
    "\n",
    "print(\"Total cost = \", round(cost,2))\n",
    "print(\"Total risk = \", round(risk,2))\n",
    "print(\"Objective value = \", round(w1/Cmax * cost + w2/Rmax * risk,2))"
   ]
  },
  {
   "cell_type": "markdown",
   "metadata": {},
   "source": [
    "Finally, we can plot the resulting cash balance and make some interesting computations"
   ]
  },
  {
   "cell_type": "code",
   "execution_count": 13,
   "metadata": {
    "collapsed": false
   },
   "outputs": [
    {
     "data": {
      "image/png": "[encoded data removed]",
      "text/plain": [
       "<matplotlib.figure.Figure at 0x20bec6ea9b0>"
      ]
     },
     "metadata": {},
     "output_type": "display_data"
    }
   ],
   "source": [
    "time = range(1,T+1)\n",
    "for i in range(m):\n",
    "    plt.plot(time, Bal[:,i],label='Account'+ str(i+1))\n",
    "plt.legend(loc='upper left')\n",
    "plt.ylim([0,max(Bal.flatten())+2])\n",
    "plt.xlim([1,T])\n",
    "plt.xlabel('Time')\n",
    "plt.ylabel('Cash balance')\n",
    "plt.show()"
   ]
  },
  {
   "cell_type": "code",
   "execution_count": 14,
   "metadata": {
    "collapsed": false
   },
   "outputs": [
    {
     "name": "stdout",
     "output_type": "stream",
     "text": [
      "Average balance for account 1 = 2.01\n",
      "Standard deviation for account 1 = 0.53\n",
      "Average balance for account 2 = 6.04\n",
      "Standard deviation for account 2 = 1.31\n"
     ]
    }
   ],
   "source": [
    "print(\"Average balance for account 1 =\", round(np.mean(Bal[:,0]),2))\n",
    "print(\"Standard deviation for account 1 =\", round(np.std(Bal[:,0]),2))\n",
    "print(\"Average balance for account 2 =\", round(np.mean(Bal[:,1]),2))\n",
    "print(\"Standard deviation for account 2 =\", round(np.std(Bal[:,1]),2))"
   ]
  },
  {
   "cell_type": "markdown",
   "metadata": {},
   "source": [
    "Within this framework, let us change the risk preferences to consider a much more conservative cash manager."
   ]
  },
  {
   "cell_type": "code",
   "execution_count": 15,
   "metadata": {
    "collapsed": false
   },
   "outputs": [
    {
     "name": "stdout",
     "output_type": "stream",
     "text": [
      "Program successfully solved\n",
      "Total cost =  12459.14\n",
      "Total risk =  1.55\n",
      "Objective value =  0.15\n"
     ]
    }
   ],
   "source": [
    "# Changing risk preferences\n",
    "w1 = 0.2\n",
    "w2 = 1 - w1\n",
    "\n",
    "sol = prb.solveref(b0, f, Cmax, Rmax, w1, w2)\n",
    "\n",
    "# Retrieving the policy and the resulting balance\n",
    "X = prb.policy()\n",
    "Bal = prb.balance()\n",
    "\n",
    "#Some useful vectors to compute cost and risk\n",
    "vh = np.array(list(h.values())).reshape((m,1))\n",
    "vg0 = np.array(list(g0.values())).reshape((n,1))\n",
    "vg1 = np.array(list(g1.values())).reshape((n,1))\n",
    "cost = np.sum(np.dot(vh.T,Bal.T)) + np.sum(np.dot(vg0.T,np.sign(X.T))) + np.sum(np.dot(vg1.T,X.T))\n",
    "Bref = np.array(bref).reshape((1,m))\n",
    "D = Bref - Bal\n",
    "Qv = np.diag(Q).reshape((m,1))\n",
    "risk = np.sum(np.dot(D,Qv)**2)\n",
    "\n",
    "print(\"Total cost = \", round(cost,2))\n",
    "print(\"Total risk = \", round(risk,2))\n",
    "print(\"Objective value = \", round(w1/Cmax * cost + w2/Rmax * risk,2))"
   ]
  },
  {
   "cell_type": "code",
   "execution_count": 16,
   "metadata": {
    "collapsed": false
   },
   "outputs": [
    {
     "data": {
      "image/png": "[encoded data removed]",
      "text/plain": [
       "<matplotlib.figure.Figure at 0x20bf1fadd68>"
      ]
     },
     "metadata": {},
     "output_type": "display_data"
    }
   ],
   "source": [
    "time = range(1,T+1)\n",
    "for i in range(m):\n",
    "    plt.plot(time, Bal[:,i],label='Account'+ str(i+1))\n",
    "plt.legend(loc='upper left')\n",
    "plt.ylim([0,max(Bal.flatten())+2])\n",
    "plt.xlim([1,T])\n",
    "plt.xlabel('Time')\n",
    "plt.ylabel('Cash balance')\n",
    "plt.show()"
   ]
  },
  {
   "cell_type": "code",
   "execution_count": 17,
   "metadata": {
    "collapsed": false
   },
   "outputs": [
    {
     "name": "stdout",
     "output_type": "stream",
     "text": [
      "Average balance for account 1 = 2.75\n",
      "Standard deviation for account 1 = 0.13\n",
      "Average balance for account 2 = 5.3\n",
      "Standard deviation for account 2 = 1.42\n"
     ]
    }
   ],
   "source": [
    "print(\"Average balance for account 1 =\", round(np.mean(Bal[:,0]),2))\n",
    "print(\"Standard deviation for account 1 =\", round(np.std(Bal[:,0]),2))\n",
    "print(\"Average balance for account 2 =\", round(np.mean(Bal[:,1]),2))\n",
    "print(\"Standard deviation for account 2 =\", round(np.std(Bal[:,1]),2))"
   ]
  },
  {
   "cell_type": "markdown",
   "metadata": {},
   "source": [
    "** References **\n",
    "\n",
    "Miller, Merton H., and Daniel Orr. \"A Model of the Demand for Money by Firms.\" The Quarterly journal of economics 80.3 (1966): 413-435.\n",
    "\n",
    "Bemporad, Alberto, and Manfred Morari. \"Control of systems integrating logic, dynamics, and constraints.\" Automatica 35.3 (1999): 407-427."
   ]
  }
 ],
 "metadata": {
  "kernelspec": {
   "display_name": "Python 3",
   "language": "python",
   "name": "python3"
  },
  "language_info": {
   "codemirror_mode": {
    "name": "ipython",
    "version": 3
   },
   "file_extension": ".py",
   "mimetype": "text/x-python",
   "name": "python",
   "nbconvert_exporter": "python",
   "pygments_lexer": "ipython3",
   "version": "3.5.1"
  }
 },
 "nbformat": 4,
 "nbformat_minor": 0
}
